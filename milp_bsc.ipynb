{
  "cells": [
    {
      "cell_type": "markdown",
      "metadata": {
        "id": "view-in-github",
        "colab_type": "text"
      },
      "source": [
        "<a href=\"https://colab.research.google.com/github/Nguyenanh393/Optima/blob/main/milp_bsc.ipynb\" target=\"_parent\"><img src=\"https://colab.research.google.com/assets/colab-badge.svg\" alt=\"Open In Colab\"/></a>"
      ]
    },
    {
      "cell_type": "code",
      "execution_count": null,
      "metadata": {
        "colab": {
          "base_uri": "https://localhost:8080/"
        },
        "id": "7UZOHEzQT27b",
        "outputId": "24a60f98-62c8-48d7-d795-b816f3687b7b"
      },
      "outputs": [
        {
          "output_type": "stream",
          "name": "stdout",
          "text": [
            "Requirement already satisfied: pulp in /usr/local/lib/python3.10/dist-packages (2.7.0)\n"
          ]
        }
      ],
      "source": [
        "!pip install pulp\n",
        "from pulp import *"
      ]
    },
    {
      "cell_type": "code",
      "execution_count": null,
      "metadata": {
        "id": "10azXIcGVDry"
      },
      "outputs": [],
      "source": [
        "# Đặt tên bài toán\n",
        "problem = LpProblem(\"BloodSupplyChain_CO2\", LpMinimize)"
      ]
    },
    {
      "cell_type": "code",
      "execution_count": null,
      "metadata": {
        "id": "mefEyn6tYYak"
      },
      "outputs": [],
      "source": [
        "# Đặt tên các biến\n",
        "\n",
        "# Số ngày\n",
        "num_periods = 29\n",
        "\n",
        "# Nhóm máu\n",
        "blood_types = ['A', 'B', 'AB', 'O']\n",
        "\n",
        "# Ngân hàng máu\n",
        "regional_blood_banks = \"VienHuyetHocTrungUong\"\n",
        "\n",
        "# Điểm cung cấp máu lưu động\n",
        "MUFs = [\"UBNDPhuongNguyenDu\", \"TieuHocGiaQuat\"] # dữ liệu ngày (26/11/2023)\n",
        "\n",
        "# Điểm cung cấp máu cố định\n",
        "FUFs = [\"26LuongNgocQuyen\", \"132QuanNhan\", \"10/122/DuongLang\", \"78NguyenTruongTo\", \"KM13+500QL1ANgocHoi\"]\n",
        "\n",
        "# Điểm tiêu thụ máu\n",
        "hospitals = [\"BVBachMai\", \"BVPhuSanTrungUong\",\"BVTimHaNoi\"]\n",
        "\n"
      ]
    },
    {
      "cell_type": "code",
      "execution_count": null,
      "metadata": {
        "id": "QCumzW1LzbTo"
      },
      "outputs": [],
      "source": [
        "# Parameters\n",
        "\n",
        "# Khoảng cách từ MUFs đến RBBS\n",
        "X_ir = {(\"UBNDPhuongNguyenDu\", \"VienHuyetHocTrungUong\"): 9,\n",
        "        (\"TieuHocGiaQuat\", \"VienHuyetHocTrungUong\"): 25}\n",
        "\n",
        "# Khoảng cách từ FUFs đến RBBS\n",
        "X_jr = {(\"26LuongNgocQuyen\", \"VienHuyetHocTrungUong\"): 10,\n",
        "        (\"132QuanNhan\", \"VienHuyetHocTrungUong\"): 5,\n",
        "        (\"10/122/DuongLang\", \"VienHuyetHocTrungUong\"): 5,\n",
        "        (\"78NguyenTruongTo\", \"VienHuyetHocTrungUong\"): 9,\n",
        "        (\"KM13+500QL1ANgocHoi\", \"VienHuyetHocTrungUong\"): 35}\n",
        "\n",
        "# Khoảng cách từ MUFs đến Hs\n",
        "X_ih = {(\"UBNDPhuongNguyenDu\", \"BVBachMai\"): 5, (\"UBNDPhuongNguyenDu\", \"BVPhuSanTrungUong\"): 5, (\"UBNDPhuongNguyenDu\", \"BVTimHaNoi\"): 5,\n",
        "        (\"TieuHocGiaQuat\", \"BVBachMai\"): 5, (\"TieuHocGiaQuat\", \"BVPhuSanTrungUong\"): 5, (\"TieuHocGiaQuat\", \"BVTimHaNoi\"): 5}\n",
        "\n",
        "# Khoảng cách từ FUFs đến Hs\n",
        "X_jh = {(\"26LuongNgocQuyen\", \"BVBachMai\"): 7, (\"26LuongNgocQuyen\", \"BVPhuSanTrungUong\"): 2, (\"26LuongNgocQuyen\", \"BVTimHaNoi\"): 4,\n",
        "        (\"132QuanNhan\", \"BVBachMai\"): 5, (\"132QuanNhan\", \"BVPhuSanTrungUong\"): 6, (\"132QuanNhan\", \"BVTimHaNoi\"): 7,\n",
        "        (\"10/122/DuongLang\", \"BVBachMai\"): 4, (\"10/122/DuongLang\", \"BVPhuSanTrungUong\"): 6, (\"10/122/DuongLang\", \"BVTimHaNoi\"): 5,\n",
        "        (\"78NguyenTruongTo\", \"BVBachMai\"): 6, (\"78NguyenTruongTo\", \"BVPhuSanTrungUong\"): 3, (\"78NguyenTruongTo\", \"BVTimHaNoi\"): 3,\n",
        "        (\"KM13+500QL1ANgocHoi\", \"BVBachMai\"): 11, (\"KM13+500QL1ANgocHoi\", \"BVPhuSanTrungUong\"): 14, (\"KM13+500QL1ANgocHoi\", \"BVTimHaNoi\"): 12}\n",
        "\n",
        "# Khoảng cách từ RBBS đến Hs\n",
        "X_rh = {(\"VienHuyetHocTrungUong\", \"BVBachMai\"): 8, (\"VienHuyetHocTrungUong\", \"BVPhuSanTrungUong\"): 8, (\"VienHuyetHocTrungUong\", \"BVTimHaNoi\"): 8}\n",
        "\n",
        "# Mức chứa tối đa nhóm máu p tại RBBs (túi)\n",
        "Z_pr = 10000\n",
        "\n",
        "# Mức chứa tối đa nhóm máu p tại Hs (túi)\n",
        "Z_ph = 2000\n",
        "\n",
        "CAP = 10000\n",
        "alpha = 25\n",
        "\n",
        "# Nhu cầu về nhóm máu p tại các bệnh viện h\n",
        "D_ph = {('A', \"BVBachMai\"): 1000, ('B', \"BVBachMai\"): 800,\n",
        "        ('AB', \"BVBachMai\"): 900, ('O', \"BVBachMai\"): 700,\n",
        "        ('A', \"BVPhuSanTrungUong\"): 500, ('B', \"BVPhuSanTrungUong\"): 1100,\n",
        "        ('AB', \"BVPhuSanTrungUong\"): 900, ('O', \"BVPhuSanTrungUong\"): 800,\n",
        "        ('A', \"BVTimHaNoi\"): 900, ('B', \"BVTimHaNoi\"): 800,\n",
        "        ('AB', \"BVTimHaNoi\"): 600, ('O', \"BVTimHaNoi\"): 700}"
      ]
    },
    {
      "cell_type": "code",
      "execution_count": null,
      "metadata": {
        "id": "cRtKNRWkzbTp"
      },
      "outputs": [],
      "source": [
        "# import random as rd\n",
        "# print(round(rd.uniform(0.002, 0.008),3))\n",
        "# print(round(rd.uniform(0.002, 0.008),3))\n",
        "# print(round(rd.uniform(0.00002, 0.00008),5))\n",
        "# print(round(rd.uniform(0.00002, 0.00008),5))\n",
        "# print(round(rd.uniform(0.00002, 0.00008),5))\n",
        "# print(round(rd.uniform(0.00002, 0.00008),5))\n",
        "# print(round(rd.uniform(0.00002, 0.00008),5))\n",
        "\n",
        "EP_pr = {'A' : 0.004, 'B' : 0.006, 'AB' : 0.005, 'O' : 0.003}\n",
        "EP_ph = {'A' : 0.004, 'B' : 0.007, 'AB' : 0.003, 'O' : 0.002}\n",
        "\n",
        "ER_pir = {'A' : 0.00003, 'B' : 0.00005, 'AB' : 0.00004, 'O' : 0.00006}\n",
        "ER_pjr = {'A' : 0.00006, 'B' : 0.00003, 'AB' : 0.00004, 'O' : 0.00004}\n",
        "ER_pih = {'A' : 0.00007, 'B' : 0.00004, 'AB' : 0.00008, 'O' : 0.00004}\n",
        "ER_pjh = {'A' : 0.00006, 'B' : 0.00007, 'AB' : 0.00002, 'O' : 0.00005}\n",
        "ER_prh = {'A' : 0.00004, 'B' : 0.00007, 'AB' : 0.00004, 'O' : 0.00003}\n"
      ]
    },
    {
      "cell_type": "code",
      "execution_count": null,
      "metadata": {
        "id": "MGEeTuutVnkd"
      },
      "outputs": [],
      "source": [
        "# Decision Variables\n",
        "\n",
        "# Số lượng máu nhóm p được sản xuất tại r trong thời gian t (túi) (Giả sử >= 100)\n",
        "G_pr = LpVariable.dicts(\"G_pr\", (range(num_periods), blood_types, regional_blood_banks), 0, None, LpInteger)\n",
        "\n",
        "# Số lượng máu nhóm p được sản xuất tại h trong thời gian t (túi) (>= 40)\n",
        "G_ph = LpVariable.dicts(\"G_ph\", (range(num_periods), blood_types, hospitals), 0, None, LpInteger)\n",
        "\n",
        "# Số lượng máu p được vận chuyển từ MUFs -> RBBs trong thời gian t (túi) (>= 10)\n",
        "Q_pir = LpVariable.dicts(\"Q_pir\", (range(num_periods), blood_types, MUFs, regional_blood_banks), 0, None, LpInteger)\n",
        "\n",
        "# Số lượng máu p được vận chuyển từ FUFs -> RBBs trong thời gian t (túi) (>= 10)\n",
        "Q_pjr = LpVariable.dicts(\"Q_pjr\", (range(num_periods), blood_types, FUFs, regional_blood_banks), 0, None, LpInteger)\n",
        "\n",
        "# Số lượng máu p được vận chuyển từ MUFs -> Hs trong thời gian t (túi) (>= 10)\n",
        "Q_pih = LpVariable.dicts(\"Q_pih\", (range(num_periods), blood_types, MUFs, hospitals), 0, None, LpInteger)\n",
        "\n",
        "# Số lượng máu p được vận chuyển từ FUFs -> Hs trong thời gian t (túi) (>= 10)\n",
        "Q_pjh = LpVariable.dicts(\"Q_pjh\", (range(num_periods), blood_types, FUFs, hospitals), 0, None, LpInteger)\n",
        "\n",
        "# Số lượng máu p được vận chuyển từ RBBs -> Hs trong thời gian t (túi) (>= 25)\n",
        "Q_prh = LpVariable.dicts(\"Q_prh\", (range(num_periods), blood_types, regional_blood_banks, hospitals), 0, None, LpInteger)\n",
        "\n",
        "# Số lượng máu tồn kho tại RBBs trong thời gian t (túi)\n",
        "I_pr = LpVariable.dicts(\"I_pr\", (range(num_periods), blood_types, regional_blood_banks), 0, None, LpInteger)\n",
        "\n",
        "# Số lượng máu tồn kho tại Hs trong thời gian t (túi)\n",
        "I_ph = LpVariable.dicts(\"I_ph\", (range(num_periods), blood_types, hospitals), 0, None, LpInteger)\n",
        "\n",
        "# Số lượng máu hết hạn tại RBBs trong thời gian t (túi)\n",
        "W_pr = LpVariable.dicts(\"W_pr\", (range(num_periods), blood_types, regional_blood_banks), 0, None, LpInteger)\n",
        "\n",
        "# Số lượng máu hết hạn tại Hs trong thời gian t (túi)\n",
        "W_ph = LpVariable.dicts(\"W_ph\", (range(num_periods), blood_types, hospitals), 0, None, LpInteger)\n",
        "\n",
        "# Nếu MUFS được sử dụng trong thời gian t thì = 1, ngược lại = 0\n",
        "y_i = LpVariable.dicts(\"y_i\", (range(num_periods), MUFs), 0, 1, LpInteger)\n",
        "\n",
        "# Nếu FUFs được sử dụng trong thời gian t thì = 1, ngược lại = 0\n",
        "y_j = LpVariable.dicts(\"y_j\", (range(num_periods), FUFs), 0, 1, LpInteger)\n",
        "\n",
        "# Nếu RBBs được sử dụng trong thời gian t thì = 1, ngược lại = 0\n",
        "y_r = LpVariable.dicts(\"y_r\", (range(num_periods), regional_blood_banks), 0, 1, LpInteger)\n"
      ]
    },
    {
      "cell_type": "code",
      "execution_count": null,
      "metadata": {
        "id": "ejmD_SK4zbTp"
      },
      "outputs": [],
      "source": [
        "# hàm mục tiêu : min carbon\n",
        "problem += lpSum([lpSum([lpSum([EP_pr[p] * G_pr[t][p][r] for p in blood_types]) for r in regional_blood_banks]) for t in range(num_periods)]) + \\\n",
        "            lpSum([lpSum([lpSum([EP_ph[p] * G_ph[t][p][h] for p in blood_types]) for h in hospitals]) for t in range(num_periods)]) + \\\n",
        "            lpSum([lpSum([lpSum([lpSum([ER_pir[p] * Q_pir[t][p][i][r] for p in blood_types]) for i in MUFs]) for r in regional_blood_banks]) for t in range(num_periods)]) + \\\n",
        "            lpSum([lpSum([lpSum([lpSum([ER_pjr[p] * Q_pjr[t][p][j][r] for p in blood_types]) for j in FUFs]) for r in regional_blood_banks]) for t in range(num_periods)]) + \\\n",
        "            lpSum([lpSum([lpSum([lpSum([ER_pih[p] * Q_pih[t][p][i][h] for p in blood_types]) for i in MUFs]) for h in hospitals]) for t in range(num_periods)]) + \\\n",
        "            lpSum([lpSum([lpSum([lpSum([ER_pjh[p] * Q_pjh[t][p][j][h] for p in blood_types]) for j in FUFs]) for h in hospitals]) for t in range(num_periods)])+ \\\n",
        "            lpSum([lpSum([lpSum([lpSum([ER_prh[p] * Q_prh[t][p][r][h] for p in blood_types]) for r in regional_blood_banks]) for h in hospitals]) for t in range(num_periods)]), \"Total_Carbon_Footprint\""
      ]
    },
    {
      "cell_type": "code",
      "execution_count": null,
      "metadata": {
        "id": "Vj9sf-UQzbTp"
      },
      "outputs": [],
      "source": [
        "# Ràng buộc\n",
        "\n",
        "# Số dư dự trữ của các nhóm máu tại các ngân hàng máu khu vực hiện có r, bệnh viện h trong thời gian t\n",
        "for t in range(1, num_periods):\n",
        "    for p in blood_types:\n",
        "        for r in regional_blood_banks:\n",
        "            problem += I_pr[t][p][r] == I_pr[t-1][p][r] + lpSum([Q_pir[t][p][i][r] for i in MUFs]) + \\\n",
        "                                                          lpSum([Q_pjr[t][p][j][r] for j in FUFs]) - \\\n",
        "                                                          lpSum([Q_prh[t][p][r][h] for h in hospitals])+ W_pr[t][p][r]\n",
        "\n",
        "for t in range(1, num_periods):\n",
        "    for p in blood_types:\n",
        "        for h in hospitals:\n",
        "            problem += I_ph[t][p][h] == I_ph[t-1][p][h] + lpSum([Q_pih[t][p][i][h] for i in MUFs]) + \\\n",
        "                                                          lpSum([Q_pjh[t][p][j][h] for j in FUFs]) + \\\n",
        "                                                          lpSum([Q_prh[t][p][r][h] for r in regional_blood_banks]) + W_ph[t][p][h] - \\\n",
        "                                                          D_ph[(p, h)]\n",
        "\n",
        "for i in MUFs:\n",
        "    problem += lpSum(y_i[t][i] for t in range(num_periods)) >= 1\n",
        "\n",
        "for j in FUFs:\n",
        "    problem += lpSum(y_j[t][j] for t in range(num_periods)) >= 1\n",
        "\n",
        "for r in regional_blood_banks:\n",
        "    problem += lpSum(y_r[t][r] for t in range(num_periods)) >= 1\n",
        "\n",
        "for t in range(num_periods):\n",
        "    for p in blood_types:\n",
        "        for r in regional_blood_banks:\n",
        "            problem += lpSum([Q_pir[t][p][i][r] for i in MUFs]) + lpSum([Q_pjr[t][p][j][r] for j in FUFs]) == G_pr[t][p][r]\n",
        "\n",
        "for t in range(num_periods):\n",
        "    for p in blood_types:\n",
        "        for h in hospitals:\n",
        "            problem += lpSum([Q_pih[t][p][i][h] for i in MUFs]) + lpSum([Q_pjh[t][p][j][h] for j in FUFs]) + lpSum([Q_prh[t][p][r][h] for r in regional_blood_banks]) == G_ph[t][p][h]\n",
        "\n",
        "for t in range(num_periods):\n",
        "    for p in blood_types:\n",
        "        for h in hospitals:\n",
        "            problem += lpSum([Q_pih[t][p][i][h] for i in MUFs]) + \\\n",
        "                        lpSum([Q_pjh[t][p][j][h] for j in FUFs]) + \\\n",
        "                        lpSum([Q_prh[t][p][r][h] for r in regional_blood_banks]) <= D_ph[(p,h)]\n",
        "\n",
        "for t in range(num_periods):\n",
        "    for p in blood_types:\n",
        "        for r in regional_blood_banks:\n",
        "            problem += I_pr[t][p][r] <= Z_pr\n",
        "\n",
        "\n",
        "for t in range(num_periods):\n",
        "    for p in blood_types:\n",
        "        for h in hospitals:\n",
        "            problem += I_ph[t][p][h] <= Z_ph\n",
        "\n",
        "\n",
        "\n",
        "\n",
        "for t in range(alpha + 1, num_periods):\n",
        "    for p in blood_types:\n",
        "        for r in regional_blood_banks:\n",
        "            temp_expr = I_pr[t - alpha][p][r] - lpSum([Q_pir[t - alpha][p][i][r] for i in MUFs]) - lpSum([Q_pjr[t - alpha][p][j][r] for j in FUFs]) - W_pr[t - alpha][p][r]\n",
        "            problem += W_pr[t][p][r] >= 0\n",
        "            problem += W_pr[t][p][r] >= temp_expr\n",
        "\n",
        "for t in range(alpha, num_periods):\n",
        "    for p in blood_types:\n",
        "        for h in hospitals:\n",
        "            temp_expr = I_ph[t - alpha][p][h] - lpSum([Q_pih[t - alpha][p][i][h] for i in MUFs]) - lpSum([Q_pjh[t - alpha][p][j][h] for j in FUFs]) - lpSum([Q_prh[t - alpha][p][r][h] for r in regional_blood_banks]) - W_ph[t - alpha][p][h]\n",
        "            problem += W_ph[t][p][h] >= 0\n",
        "            problem += W_ph[t][p][h] >= temp_expr\n",
        "\n",
        "problem += lpSum([lpSum([lpSum(EP_pr[p] * G_pr[t][p][r] for p in blood_types) for r in regional_blood_banks]) for t in range(num_periods)]) + \\\n",
        "            lpSum([lpSum([lpSum(EP_ph[p] * G_ph[t][p][h] for p in blood_types) for h in hospitals]) for t in range(num_periods)]) + \\\n",
        "            lpSum([lpSum([lpSum([ER_pir[p] * Q_pir[t][p][i][r] for p in blood_types]) for i in MUFs]) for r in regional_blood_banks]) + \\\n",
        "            lpSum([lpSum([lpSum([ER_pjr[p] * Q_pjr[t][p][j][r] for p in blood_types]) for j in FUFs]) for r in regional_blood_banks]) + \\\n",
        "            lpSum([lpSum([lpSum([ER_pih[p] * Q_pih[t][p][i][h] for p in blood_types]) for i in MUFs]) for h in hospitals]) + \\\n",
        "            lpSum([lpSum([lpSum([ER_pjh[p] * Q_pjh[t][p][j][h] for p in blood_types]) for j in FUFs]) for h in hospitals]) + \\\n",
        "            lpSum([lpSum([lpSum([ER_prh[p] * Q_prh[t][p][r][h] for p in blood_types]) for r in regional_blood_banks]) for h in hospitals]) <= CAP * 4\n",
        "\n",
        "for t in range(num_periods):\n",
        "    for p in blood_types:\n",
        "        for r in regional_blood_banks:\n",
        "            problem += G_pr[t][p][r] >= 100\n",
        "\n",
        "for t in range(num_periods):\n",
        "    for p in blood_types:\n",
        "        for h in hospitals:\n",
        "            problem += G_ph[t][p][h] >= 40\n",
        "\n",
        "for t in range(num_periods):\n",
        "    for p in blood_types:\n",
        "        for i in MUFs:\n",
        "            problem += Q_pir[t][p][i][r] >= 10\n",
        "\n",
        "for t in range(num_periods):\n",
        "    for p in blood_types:\n",
        "        for j in FUFs:\n",
        "            problem += Q_pjr[t][p][j][r] >= 10\n",
        "\n",
        "for t in range(num_periods):\n",
        "    for p in blood_types:\n",
        "        for i in MUFs:\n",
        "            problem += Q_pih[t][p][i][h] >= 10\n",
        "\n",
        "for t in range(num_periods):\n",
        "    for p in blood_types:\n",
        "        for j in FUFs:\n",
        "            problem += Q_pjh[t][p][j][h] >= 10\n",
        "\n",
        "for t in range(num_periods):\n",
        "    for p in blood_types:\n",
        "        for r in regional_blood_banks:\n",
        "            problem += Q_prh[t][p][r][h] >= 25\n",
        "\n",
        "for t in range(num_periods):\n",
        "    for p in blood_types:\n",
        "        for r in regional_blood_banks:\n",
        "            problem += I_pr[t][p][r] >= 0\n",
        "\n",
        "for t in range(num_periods):\n",
        "    for p in blood_types:\n",
        "        for h in hospitals:\n",
        "            problem += I_ph[t][p][h] >= 0\n",
        "\n",
        "for t in range(num_periods):\n",
        "    for p in blood_types:\n",
        "        for r in regional_blood_banks:\n",
        "            problem += W_pr[t][p][r] >= 0\n",
        "\n",
        "for t in range(num_periods):\n",
        "    for p in blood_types:\n",
        "        for h in hospitals:\n",
        "            problem += W_ph[t][p][h] >= 0\n",
        "\n",
        "\n",
        "\n",
        "\n",
        "\n"
      ]
    },
    {
      "cell_type": "code",
      "execution_count": null,
      "metadata": {
        "colab": {
          "base_uri": "https://localhost:8080/"
        },
        "id": "hRy8BHNqzbTq",
        "outputId": "a14816ea-45ae-4266-aa8c-faa752e09cbd"
      },
      "outputs": [
        {
          "output_type": "stream",
          "name": "stdout",
          "text": [
            "Status: Optimal\n",
            "Total Carbon Footprint =  1421.5248999999237\n"
          ]
        }
      ],
      "source": [
        "# Giải bài toán\n",
        "problem.solve()\n",
        "\n",
        "# In kết quả\n",
        "print(\"Status:\", LpStatus[problem.status])\n",
        "print(\"Total Carbon Footprint = \", value(problem.objective))\n",
        "\n",
        "# for v in problem.variables():\n",
        "#     print(v.name, \"=\", v.varValue)\n"
      ]
    }
  ],
  "metadata": {
    "colab": {
      "provenance": [],
      "include_colab_link": true
    },
    "kernelspec": {
      "display_name": "Python 3",
      "name": "python3"
    },
    "language_info": {
      "codemirror_mode": {
        "name": "ipython",
        "version": 3
      },
      "file_extension": ".py",
      "mimetype": "text/x-python",
      "name": "python",
      "nbconvert_exporter": "python",
      "pygments_lexer": "ipython3",
      "version": "3.9.13"
    }
  },
  "nbformat": 4,
  "nbformat_minor": 0
}